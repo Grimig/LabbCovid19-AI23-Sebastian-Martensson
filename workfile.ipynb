{
 "cells": [
  {
   "cell_type": "markdown",
   "metadata": {},
   "source": [
    "\n",
    "Laboration-Covid-19\n",
    "\n",
    "Covid-19 pandemin har påverkat hela världen med många dödsfall som följd. Ett kraftfullt verktyg för att förstå hur viruset påverkar världen är att analysera och visualisera data för att förstå trender.\n",
    "\n",
    "Data Folkhälsomyndigheten har samlat in data kring nya fall, dödsfall med mera. Vi ska använda oss av följande dataset:\n",
    "- Covid-19 bekräftade fall - refereras som \"covid19\" i texten nedan\n",
    "- Statistik för vaccination mot covid-19 - refereras som \"vaccin\" i texten nedan\n",
    "\n",
    "Underrubriken \"Ladda ner data\" ska du ladda ned Excel-filerna.\n",
    "\n",
    "Uppgifter:\n",
    "- Alla grafer ska exporteras till en undermapp som heter \"Visualiseringar\" i din mapp för labben.\n",
    "- Exportera matplotlib/seaborn grafer i png-format och plotly grafer som html-filer.\n",
    "- Ge relevant namn till dina filer så det blir lätt att referera till dem. Notera att du behöver ställa in bakgrundsfärg när du sparar matplotlib grafer, annars blir det transparent och svåra att läsa.\n",
    "\n",
    "Uppgift 1 - Uppvärmning covid-19 data:\n",
    "Börja med att manuellt läsa Excel-filerna och de olika bladen i varje dokument. Använd därefter Pandas för att läsa in bladet \"Veckodata Riket\" i covid19-filen.\n",
    "\n",
    "a) Gör initial dataanalys för att snabbt få en överblick över datasetet. Använd metoder som ex.info(), describe(), value_counts(), head(), columns, index för att snabbt få en överblick.\n",
    "\n",
    "b) Slå ihop kolumnerna \"år\" och \"veckonummer\" till en kolumn med namn \"Vecka\" med följande format: Vecka 2020v6, Vecka 2020v7, ..., Vecka 2022v41. "
   ]
  },
  {
   "cell_type": "code",
   "execution_count": null,
   "metadata": {},
   "outputs": [],
   "source": [
    "import pandas as pd\n",
    "import plotly.express as px\n",
    "\n",
    "# Folkhalsomyndigheten_Covid19.xlsx\n",
    "df = pd.read_excel(\n",
    "    \"dataset/Folkhalsomyndigheten_Covid19.xlsx\", sheet_name=\"Veckodata Riket\"\n",
    ")\n",
    "\n",
    "df[\"Vecka\"] = df[\"år\"].astype(str) + \"v\" + df[\"veckonummer\"].astype(str)\n",
    "df.drop(columns=[\"år\", \"veckonummer\"])\n",
    "print(df.Vecka)\n"
   ]
  },
  {
   "cell_type": "markdown",
   "metadata": {},
   "source": [
    "För uppgifterna i c-f, använd både Seaborn och Plotly Express. För Seaborn, använd subplots så du får en 2x2 grid med graferna.\n",
    "\n",
    "c) Rita en linjediagram som visar avlidna fall per vecka från 2020v6 till nu.\n",
    "\n",
    "d) Rita en linjediagram som visar nya fall per vecka från 2020v6 till nu.\n",
    "\n",
    "e) Rita en linjediagram av både avlidna fall per vecka och nya fall per vecka i samma fönster från 2020v6 till nu.\n",
    "\n",
    "f) Rita en linjediagram av kumulativa antal fall från 2020v6 till nu.\n",
    "\n",
    "Uppgift 2 - Uppvärmning vaccin data:\n",
    "I uppgiften nedan ska du använda dig av datasetet \"vaccin\" och bladet \"Vaccinerade kommun och ålder\". Använd Plotly Express för att rita diagrammen nedan för de uppgifter som kräver diagram. Använd Pandas för att svara på frågor om datasetet.\n",
    "\n",
    "a) Hur många län finns representerade i datasetet?\n",
    "\n",
    "b) Hur många kommuner finns representerade i datasetet?\n",
    "\n",
    "c) Hur stor är befolkningen som är representerad i datasetet?\n",
    "\n",
    "d) Beräkna hur många barn under 18 år det finns i Sverige baserat på detta dataset. Du får leta upp statistik på hur stor totala befolkningen är i Sverige.\n",
    "\n",
    "e) Rita ett diagram som visar åldersfördelningen av Sveriges befolkning.\n",
    "\n",
    "f) Rita ett stapeldiagram för andel med minst 1 dos per län, andel två doser per län och andel tre doser per län.\n",
    "\n",
    "Uppgift 3 - KPIer & explorativ dataanalys:\n",
    "Definiera 3-6 KPIer utöver de som använts i ovanstående uppgifter och gör explorativ dataanalys på flera sheets på båda Excel-filerna. Se till att dokumentera vad du undersöker med markdown kombinerad med kod i Jupyter Notebook eller om du använder Python-skript, skriv en markdown vid sidan om. Dokumentera också vad du kommer fram till och spara alla visualiseringar.\n"
   ]
  }
 ],
 "metadata": {
  "kernelspec": {
   "display_name": "div",
   "language": "python",
   "name": "python3"
  },
  "language_info": {
   "codemirror_mode": {
    "name": "ipython",
    "version": 3
   },
   "file_extension": ".py",
   "mimetype": "text/x-python",
   "name": "python",
   "nbconvert_exporter": "python",
   "pygments_lexer": "ipython3",
   "version": "3.10.12"
  }
 },
 "nbformat": 4,
 "nbformat_minor": 2
}
